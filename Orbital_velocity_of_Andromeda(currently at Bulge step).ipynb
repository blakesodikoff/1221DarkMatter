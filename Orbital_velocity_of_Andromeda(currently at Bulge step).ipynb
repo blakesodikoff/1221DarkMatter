{
  "nbformat": 4,
  "nbformat_minor": 0,
  "metadata": {
    "colab": {
      "provenance": [],
      "authorship_tag": "ABX9TyPFlKsugGcJW2X/UYuH/M0j",
      "include_colab_link": true
    },
    "kernelspec": {
      "name": "python3",
      "display_name": "Python 3"
    },
    "language_info": {
      "name": "python"
    }
  },
  "cells": [
    {
      "cell_type": "markdown",
      "metadata": {
        "id": "view-in-github",
        "colab_type": "text"
      },
      "source": [
        "<a href=\"https://colab.research.google.com/github/blakesodikoff/1221DarkMatter/blob/main/Orbital_velocity_of_Andromeda(currently%20at%20Bulge%20step).ipynb\" target=\"_parent\"><img src=\"https://colab.research.google.com/assets/colab-badge.svg\" alt=\"Open In Colab\"/></a>"
      ]
    },
    {
      "cell_type": "code",
      "execution_count": 2,
      "metadata": {
        "id": "EyB1m8AU5Bbp"
      },
      "outputs": [],
      "source": [
        "# importing libraries\n",
        "import numpy as np # importing this for operations such as sqrt\n",
        "import astropy.units as u # this is for unit conversions\n",
        "import astropy.constants as ac # to include astronomical constants such as G\n",
        "import matplotlib.pyplot as plt # for plotting graphs"
      ]
    },
    {
      "cell_type": "code",
      "source": [
        "from google.colab import files # to upload data files"
      ],
      "metadata": {
        "id": "Gh_G6RLw5qS4"
      },
      "execution_count": 3,
      "outputs": []
    },
    {
      "cell_type": "code",
      "source": [
        "upload = files.upload () # upload the galaxy rotation data file"
      ],
      "metadata": {
        "colab": {
          "base_uri": "https://localhost:8080/",
          "height": 74
        },
        "id": "rk6ugkqx5-xe",
        "outputId": "749f15dc-5feb-4581-abae-05c55aca1cd1"
      },
      "execution_count": 4,
      "outputs": [
        {
          "output_type": "display_data",
          "data": {
            "text/plain": [
              "<IPython.core.display.HTML object>"
            ],
            "text/html": [
              "\n",
              "     <input type=\"file\" id=\"files-56fa457e-a902-4b99-ae89-4be95f7b6e84\" name=\"files[]\" multiple disabled\n",
              "        style=\"border:none\" />\n",
              "     <output id=\"result-56fa457e-a902-4b99-ae89-4be95f7b6e84\">\n",
              "      Upload widget is only available when the cell has been executed in the\n",
              "      current browser session. Please rerun this cell to enable.\n",
              "      </output>\n",
              "      <script>// Copyright 2017 Google LLC\n",
              "//\n",
              "// Licensed under the Apache License, Version 2.0 (the \"License\");\n",
              "// you may not use this file except in compliance with the License.\n",
              "// You may obtain a copy of the License at\n",
              "//\n",
              "//      http://www.apache.org/licenses/LICENSE-2.0\n",
              "//\n",
              "// Unless required by applicable law or agreed to in writing, software\n",
              "// distributed under the License is distributed on an \"AS IS\" BASIS,\n",
              "// WITHOUT WARRANTIES OR CONDITIONS OF ANY KIND, either express or implied.\n",
              "// See the License for the specific language governing permissions and\n",
              "// limitations under the License.\n",
              "\n",
              "/**\n",
              " * @fileoverview Helpers for google.colab Python module.\n",
              " */\n",
              "(function(scope) {\n",
              "function span(text, styleAttributes = {}) {\n",
              "  const element = document.createElement('span');\n",
              "  element.textContent = text;\n",
              "  for (const key of Object.keys(styleAttributes)) {\n",
              "    element.style[key] = styleAttributes[key];\n",
              "  }\n",
              "  return element;\n",
              "}\n",
              "\n",
              "// Max number of bytes which will be uploaded at a time.\n",
              "const MAX_PAYLOAD_SIZE = 100 * 1024;\n",
              "\n",
              "function _uploadFiles(inputId, outputId) {\n",
              "  const steps = uploadFilesStep(inputId, outputId);\n",
              "  const outputElement = document.getElementById(outputId);\n",
              "  // Cache steps on the outputElement to make it available for the next call\n",
              "  // to uploadFilesContinue from Python.\n",
              "  outputElement.steps = steps;\n",
              "\n",
              "  return _uploadFilesContinue(outputId);\n",
              "}\n",
              "\n",
              "// This is roughly an async generator (not supported in the browser yet),\n",
              "// where there are multiple asynchronous steps and the Python side is going\n",
              "// to poll for completion of each step.\n",
              "// This uses a Promise to block the python side on completion of each step,\n",
              "// then passes the result of the previous step as the input to the next step.\n",
              "function _uploadFilesContinue(outputId) {\n",
              "  const outputElement = document.getElementById(outputId);\n",
              "  const steps = outputElement.steps;\n",
              "\n",
              "  const next = steps.next(outputElement.lastPromiseValue);\n",
              "  return Promise.resolve(next.value.promise).then((value) => {\n",
              "    // Cache the last promise value to make it available to the next\n",
              "    // step of the generator.\n",
              "    outputElement.lastPromiseValue = value;\n",
              "    return next.value.response;\n",
              "  });\n",
              "}\n",
              "\n",
              "/**\n",
              " * Generator function which is called between each async step of the upload\n",
              " * process.\n",
              " * @param {string} inputId Element ID of the input file picker element.\n",
              " * @param {string} outputId Element ID of the output display.\n",
              " * @return {!Iterable<!Object>} Iterable of next steps.\n",
              " */\n",
              "function* uploadFilesStep(inputId, outputId) {\n",
              "  const inputElement = document.getElementById(inputId);\n",
              "  inputElement.disabled = false;\n",
              "\n",
              "  const outputElement = document.getElementById(outputId);\n",
              "  outputElement.innerHTML = '';\n",
              "\n",
              "  const pickedPromise = new Promise((resolve) => {\n",
              "    inputElement.addEventListener('change', (e) => {\n",
              "      resolve(e.target.files);\n",
              "    });\n",
              "  });\n",
              "\n",
              "  const cancel = document.createElement('button');\n",
              "  inputElement.parentElement.appendChild(cancel);\n",
              "  cancel.textContent = 'Cancel upload';\n",
              "  const cancelPromise = new Promise((resolve) => {\n",
              "    cancel.onclick = () => {\n",
              "      resolve(null);\n",
              "    };\n",
              "  });\n",
              "\n",
              "  // Wait for the user to pick the files.\n",
              "  const files = yield {\n",
              "    promise: Promise.race([pickedPromise, cancelPromise]),\n",
              "    response: {\n",
              "      action: 'starting',\n",
              "    }\n",
              "  };\n",
              "\n",
              "  cancel.remove();\n",
              "\n",
              "  // Disable the input element since further picks are not allowed.\n",
              "  inputElement.disabled = true;\n",
              "\n",
              "  if (!files) {\n",
              "    return {\n",
              "      response: {\n",
              "        action: 'complete',\n",
              "      }\n",
              "    };\n",
              "  }\n",
              "\n",
              "  for (const file of files) {\n",
              "    const li = document.createElement('li');\n",
              "    li.append(span(file.name, {fontWeight: 'bold'}));\n",
              "    li.append(span(\n",
              "        `(${file.type || 'n/a'}) - ${file.size} bytes, ` +\n",
              "        `last modified: ${\n",
              "            file.lastModifiedDate ? file.lastModifiedDate.toLocaleDateString() :\n",
              "                                    'n/a'} - `));\n",
              "    const percent = span('0% done');\n",
              "    li.appendChild(percent);\n",
              "\n",
              "    outputElement.appendChild(li);\n",
              "\n",
              "    const fileDataPromise = new Promise((resolve) => {\n",
              "      const reader = new FileReader();\n",
              "      reader.onload = (e) => {\n",
              "        resolve(e.target.result);\n",
              "      };\n",
              "      reader.readAsArrayBuffer(file);\n",
              "    });\n",
              "    // Wait for the data to be ready.\n",
              "    let fileData = yield {\n",
              "      promise: fileDataPromise,\n",
              "      response: {\n",
              "        action: 'continue',\n",
              "      }\n",
              "    };\n",
              "\n",
              "    // Use a chunked sending to avoid message size limits. See b/62115660.\n",
              "    let position = 0;\n",
              "    do {\n",
              "      const length = Math.min(fileData.byteLength - position, MAX_PAYLOAD_SIZE);\n",
              "      const chunk = new Uint8Array(fileData, position, length);\n",
              "      position += length;\n",
              "\n",
              "      const base64 = btoa(String.fromCharCode.apply(null, chunk));\n",
              "      yield {\n",
              "        response: {\n",
              "          action: 'append',\n",
              "          file: file.name,\n",
              "          data: base64,\n",
              "        },\n",
              "      };\n",
              "\n",
              "      let percentDone = fileData.byteLength === 0 ?\n",
              "          100 :\n",
              "          Math.round((position / fileData.byteLength) * 100);\n",
              "      percent.textContent = `${percentDone}% done`;\n",
              "\n",
              "    } while (position < fileData.byteLength);\n",
              "  }\n",
              "\n",
              "  // All done.\n",
              "  yield {\n",
              "    response: {\n",
              "      action: 'complete',\n",
              "    }\n",
              "  };\n",
              "}\n",
              "\n",
              "scope.google = scope.google || {};\n",
              "scope.google.colab = scope.google.colab || {};\n",
              "scope.google.colab._files = {\n",
              "  _uploadFiles,\n",
              "  _uploadFilesContinue,\n",
              "};\n",
              "})(self);\n",
              "</script> "
            ]
          },
          "metadata": {}
        },
        {
          "output_type": "stream",
          "name": "stdout",
          "text": [
            "Saving galaxy_rotation_2006.txt to galaxy_rotation_2006.txt\n"
          ]
        }
      ]
    },
    {
      "cell_type": "code",
      "source": [
        "import astropy.io.ascii # this allows reading of data files"
      ],
      "metadata": {
        "id": "g_wbJd2F6Wek"
      },
      "execution_count": 5,
      "outputs": []
    },
    {
      "cell_type": "code",
      "source": [
        "tab = astropy.io.ascii.read(\"galaxy_rotation_2006.txt\")\n",
        "# this allows us to store the data in a table named 'tab'"
      ],
      "metadata": {
        "id": "ENGfqC5P7BzM"
      },
      "execution_count": 6,
      "outputs": []
    },
    {
      "cell_type": "code",
      "source": [
        "dis = tab[\"col2\"] # distance data will be stored in 'dis'.\n",
        "vel = tab[\"col3\"] # velocity data stored in 'vel'.\n",
        "plt.plot(dis, vel) # plotting distance with respect to velocity\n",
        "plt.xlabel(\"Distance [Kpc]\") # label for the x axis\n",
        "plt.ylabel(\"Velocity [km/s]\") # label for the y axis\n",
        "plt.ylim(0,300) # setting y-axis limits"
      ],
      "metadata": {
        "colab": {
          "base_uri": "https://localhost:8080/",
          "height": 473
        },
        "id": "EhtLIH9Z7Hnq",
        "outputId": "3510aae0-6577-42a7-da66-38680fcac065"
      },
      "execution_count": 7,
      "outputs": [
        {
          "output_type": "execute_result",
          "data": {
            "text/plain": [
              "(0.0, 300.0)"
            ]
          },
          "metadata": {},
          "execution_count": 7
        },
        {
          "output_type": "display_data",
          "data": {
            "text/plain": [
              "<Figure size 640x480 with 1 Axes>"
            ],
            "image/png": "[encoded data removed]"
          },
          "metadata": {}
        }
      ]
    },
    {
      "cell_type": "code",
      "source": [
        "print(dis) # print the distance data"
      ],
      "metadata": {
        "colab": {
          "base_uri": "https://localhost:8080/"
        },
        "id": "CBo1JH7c9FZb",
        "outputId": "f3fd9e03-c51a-4db1-f1de-82ab91c373d0"
      },
      "execution_count": 8,
      "outputs": [
        {
          "output_type": "stream",
          "name": "stdout",
          "text": [
            " col2\n",
            "-----\n",
            " 5.68\n",
            " 6.81\n",
            " 7.95\n",
            " 9.08\n",
            "10.22\n",
            "11.35\n",
            "12.49\n",
            "13.62\n",
            "14.76\n",
            "15.89\n",
            "  ...\n",
            "24.52\n",
            "25.54\n",
            "26.56\n",
            "27.58\n",
            " 28.6\n",
            "29.62\n",
            "30.65\n",
            "31.67\n",
            "32.69\n",
            "33.71\n",
            "34.73\n",
            "Length = 28 rows\n"
          ]
        }
      ]
    },
    {
      "cell_type": "code",
      "source": [
        "def calculate_orbital_velocity(mass, radius):\n",
        " # defining a function to calculate the orbital velocity\n",
        "  return(np.sqrt(ac.G * mass / radius))\n",
        " # use the formula sqrt( G * mass/radius)"
      ],
      "metadata": {
        "id": "ArQ-AQ-H9tcE"
      },
      "execution_count": 10,
      "outputs": []
    },
    {
      "cell_type": "code",
      "source": [
        "mass = 1 * u.earthMass # Earth's mass\n",
        "radius = 1 * u.earthRad # Earth's radius\n",
        "orb_vel = calculate_orbital_velocity(mass, radius) # calculate orbital velocity\n",
        "print(orb_vel.to(u.km / u.s)) # convert the result to km/s and print"
      ],
      "metadata": {
        "colab": {
          "base_uri": "https://localhost:8080/"
        },
        "id": "O4V-5LOZ-We9",
        "outputId": "6ef46d94-a118-4168-b4c6-42bd4632021a"
      },
      "execution_count": 11,
      "outputs": [
        {
          "output_type": "stream",
          "name": "stdout",
          "text": [
            "7.905388234385281 km / s\n"
          ]
        }
      ]
    },
    {
      "cell_type": "code",
      "source": [
        "# calculation for a black hole with a certain mass and radius\n",
        "mass = 3e7 * u.solMass # mass of the black hole in Solar masses\n",
        "radius = 5.68 * 1000 * u.parsec # radius in parsecs\n",
        "orb_vel = calculate_orbital_velocity(mass, radius) # calculating orbital velocity\n",
        "print(orb_vel.to(u.km / u.s)) # convert result to km/s and print"
      ],
      "metadata": {
        "colab": {
          "base_uri": "https://localhost:8080/"
        },
        "id": "vNB3YIwU-8D7",
        "outputId": "e795c062-358a-4758-9ca6-579afb6c590c"
      },
      "execution_count": 12,
      "outputs": [
        {
          "output_type": "stream",
          "name": "stdout",
          "text": [
            "4.766142291386287 km / s\n"
          ]
        }
      ]
    },
    {
      "cell_type": "code",
      "source": [
        "vel_bh = np.zeros(np.shape(dis)) * u.km / u.s\n",
        "# create a velocity array with the same number of elements as the distance array\n",
        "\n",
        "for i, radius in enumerate(dis):\n",
        "  # enumerating dis to get index and value\n",
        "  rad = radius * 1000 * u.parsec # converting kpc to parsec\n",
        "  orb_vel = calculate_orbital_velocity(mass, rad)\n",
        "  # calcuating orbital velocity for this radius\n",
        "  vel_bh[i] = orb_vel # store the calculated velocity\n",
        "  # print(\"The orbital velocity at\", radius, \"kpc =\", orb_vel.to(u.km / u.s))"
      ],
      "metadata": {
        "id": "tRap7wU5_kyT"
      },
      "execution_count": 13,
      "outputs": []
    },
    {
      "cell_type": "code",
      "source": [
        "# plotting the final graph to include actual data and black hole data\n",
        "dis = tab[\"col2\"]\n",
        "vel = tab[\"col3\"]\n",
        "plt.plot(dis, vel, color=\"black\", label=\"Data\") # plotting actual data\n",
        "plt.plot(dis, vel_bh.value, color=\"red\", label=\"Black Hole\")\n",
        "# plotting black hole data\n",
        "plt.xlabel(\"Distance [Kpc]\") # label for the x axis\n",
        "plt.ylabel(\"Velocity [km/s]\") # label for the y axis\n",
        "plt.ylim(0,300) # set the y axis limits\n",
        "plt.legend() # add a legend to the plot"
      ],
      "metadata": {
        "colab": {
          "base_uri": "https://localhost:8080/",
          "height": 473
        },
        "id": "grOLsmlYBcuV",
        "outputId": "acab2ab8-141b-4845-82ad-42370b23c425"
      },
      "execution_count": 14,
      "outputs": [
        {
          "output_type": "execute_result",
          "data": {
            "text/plain": [
              "<matplotlib.legend.Legend at 0x7ec0a1913df0>"
            ]
          },
          "metadata": {},
          "execution_count": 14
        },
        {
          "output_type": "display_data",
          "data": {
            "text/plain": [
              "<Figure size 640x480 with 1 Axes>"
            ],
            "image/png": "[encoded data removed]"
          },
          "metadata": {}
        }
      ]
    },
    {
      "cell_type": "code",
      "source": [
        "vel_bulge = np.zeros(np.shape(dis)) * u.km / u.s\n",
        "mass = 1.1e10 * u.solMass\n",
        "\n",
        "for i, radius in enumerate(dis):\n",
        "  rad = radius * 1000 * u.parsec\n",
        "  orb_vel = calculate_orbital_velocity(mass,rad)\n",
        "  vel_bulge[i]=orb_vel\n",
        "\n",
        "  print(orb_vel.to(u.km / u.s))"
      ],
      "metadata": {
        "colab": {
          "base_uri": "https://localhost:8080/"
        },
        "id": "5wgQf5dwnkWT",
        "outputId": "e6971899-892c-4623-acf3-9ca71ba3e0bb"
      },
      "execution_count": 32,
      "outputs": [
        {
          "output_type": "stream",
          "name": "stdout",
          "text": [
            "91.26467658394276 km / s\n",
            "83.34956373844437 km / s\n",
            "77.14243134136846 km / s\n",
            "72.18283959184308 km / s\n",
            "68.03798436231057 km / s\n",
            "64.56229445452973 km / s\n",
            "61.54540980126797 km / s\n",
            "58.93704172839438 km / s\n",
            "56.61528634919215 km / s\n",
            "54.56509785328112 km / s\n",
            "52.70715357701811 km / s\n",
            "51.04097536069305 km / s\n",
            "49.5106049091129 km / s\n",
            "48.121893061228725 km / s\n",
            "46.96380095369843 km / s\n",
            "45.88548756753219 km / s\n",
            "44.868645153261795 km / s\n",
            "43.92549396421129 km / s\n",
            "43.03942301032657 km / s\n",
            "42.20489767123864 km / s\n",
            "41.41710662503158 km / s\n",
            "40.67184468417869 km / s\n",
            "39.9654180230639 km / s\n",
            "39.28815617969327 km / s\n",
            "38.650298760369736 km / s\n",
            "38.042533058633936 km / s\n",
            "37.46256510636759 km / s\n",
            "36.908338524594974 km / s\n"
          ]
        }
      ]
    },
    {
      "cell_type": "code",
      "source": [
        "# plotting the final graph to include actual data and black hole data\n",
        "dis = tab[\"col2\"]\n",
        "vel = tab[\"col3\"]\n",
        "plt.plot(dis, vel, color=\"black\", label=\"Data\") # plotting actual data\n",
        "plt.plot(dis, vel_bulge.value, color=\"orange\", label=\"Bulge\")\n",
        "plt.plot(dis, vel_bh.value, color=\"red\", label=\"Black Hole\")\n",
        "# plotting black hole data\n",
        "plt.xlabel(\"Distance [Kpc]\") # label for the x axis\n",
        "plt.ylabel(\"Velocity [km/s]\") # label for the y axis\n",
        "plt.ylim(0,300) # set the y axis limits\n",
        "plt.legend() # add a legend to the plot"
      ],
      "metadata": {
        "colab": {
          "base_uri": "https://localhost:8080/",
          "height": 473
        },
        "id": "vOcHALfAuR48",
        "outputId": "7aea7ba7-a724-458b-89c4-2b2a0a43f947"
      },
      "execution_count": 35,
      "outputs": [
        {
          "output_type": "execute_result",
          "data": {
            "text/plain": [
              "<matplotlib.legend.Legend at 0x7ec090ede3e0>"
            ]
          },
          "metadata": {},
          "execution_count": 35
        },
        {
          "output_type": "display_data",
          "data": {
            "text/plain": [
              "<Figure size 640x480 with 1 Axes>"
            ],
            "image/png": "[encoded data removed]"
          },
          "metadata": {}
        }
      ]
    }
  ]
}