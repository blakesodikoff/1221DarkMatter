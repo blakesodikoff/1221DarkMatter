{
  "nbformat": 4,
  "nbformat_minor": 0,
  "metadata": {
    "colab": {
      "provenance": [],
      "authorship_tag": "ABX9TyP6xygAuiUsUFaiZWWe8aqC",
      "include_colab_link": true
    },
    "kernelspec": {
      "name": "python3",
      "display_name": "Python 3"
    },
    "language_info": {
      "name": "python"
    }
  },
  "cells": [
    {
      "cell_type": "markdown",
      "metadata": {
        "id": "view-in-github",
        "colab_type": "text"
      },
      "source": [
        "<a href=\"https://colab.research.google.com/github/blakesodikoff/1221DarkMatter/blob/main/Week_6_In_Class_Work.ipynb\" target=\"_parent\"><img src=\"https://colab.research.google.com/assets/colab-badge.svg\" alt=\"Open In Colab\"/></a>"
      ]
    },
    {
      "cell_type": "code",
      "execution_count": null,
      "metadata": {
        "id": "-UI6NvOQjnyO"
      },
      "outputs": [],
      "source": [
        "import numpy as np"
      ]
    },
    {
      "cell_type": "code",
      "source": [
        "import astropy.units as u"
      ],
      "metadata": {
        "id": "gNi3hSiijuev"
      },
      "execution_count": null,
      "outputs": []
    },
    {
      "cell_type": "code",
      "source": [
        "import astropy.constants as ac"
      ],
      "metadata": {
        "id": "NCMiHXiojwTi"
      },
      "execution_count": null,
      "outputs": []
    },
    {
      "cell_type": "code",
      "source": [
        "r_schwachild = (2*ac.G * u.solMass / ac.c**2)"
      ],
      "metadata": {
        "id": "iqM4QwMej1qA"
      },
      "execution_count": null,
      "outputs": []
    },
    {
      "cell_type": "code",
      "source": [
        "print(\"The radius of a solar-mass black hole is\" , r_schwachild.to(u.km))"
      ],
      "metadata": {
        "colab": {
          "base_uri": "https://localhost:8080/"
        },
        "id": "4L3xIncJj2ZE",
        "outputId": "915a5030-b507-4374-d9d2-579071d48f7a"
      },
      "execution_count": null,
      "outputs": [
        {
          "output_type": "stream",
          "name": "stdout",
          "text": [
            "The radius of a solar-mass black hole is 2.95325007610025 km\n"
          ]
        }
      ]
    },
    {
      "cell_type": "code",
      "source": [
        "(16 * np.pi * ac.G * u.solMass / ac.c**3)"
      ],
      "metadata": {
        "colab": {
          "base_uri": "https://localhost:8080/",
          "height": 41
        },
        "id": "UJEpf4FwkzxY",
        "outputId": "1b6d2fe3-13f9-4f84-cb99-f634873a3a27"
      },
      "execution_count": null,
      "outputs": [
        {
          "output_type": "execute_result",
          "data": {
            "text/plain": [
              "<Quantity 1.24512648e-34 s solMass / kg>"
            ],
            "text/latex": "$1.2451265 \\times 10^{-34} \\; \\mathrm{\\frac{s\\,M_{\\odot}}{kg}}$"
          },
          "metadata": {},
          "execution_count": 6
        }
      ]
    },
    {
      "cell_type": "code",
      "source": [
        "M_bh_total = ((0.01 * u.second * ac.c**3) / (16 * np.pi * ac.G))"
      ],
      "metadata": {
        "id": "IWDP8A5qlZaj"
      },
      "execution_count": null,
      "outputs": []
    },
    {
      "cell_type": "code",
      "source": [
        "print(\"Total mass of the two merging black holes is\" , M_bh_total.to(u.solMass))"
      ],
      "metadata": {
        "colab": {
          "base_uri": "https://localhost:8080/"
        },
        "id": "dCpMN4amlyol",
        "outputId": "419d915f-dc51-4f6f-90f8-0804f3276626"
      },
      "execution_count": null,
      "outputs": [
        {
          "output_type": "stream",
          "name": "stdout",
          "text": [
            "Total mass of the two merging black holes is 40.390629275268466 solMass\n"
          ]
        }
      ]
    },
    {
      "cell_type": "code",
      "source": [
        "h=1e-21\n",
        "delta_Earth = 1 * u.earthRad * h\n",
        "print(\"The deformation of Earth is\" , delta_Earth.to(u.m))"
      ],
      "metadata": {
        "colab": {
          "base_uri": "https://localhost:8080/"
        },
        "id": "jCiRwA7eoDpI",
        "outputId": "c661b34e-5f43-4c5f-a0fa-476688790e39"
      },
      "execution_count": null,
      "outputs": [
        {
          "output_type": "stream",
          "name": "stdout",
          "text": [
            "The deformation of Earth is 6.378099999999999e-15 m\n"
          ]
        }
      ]
    },
    {
      "cell_type": "markdown",
      "source": [
        "h = R_bh / distance, so distance = R_bh / h"
      ],
      "metadata": {
        "id": "mkNG07zipJwv"
      }
    },
    {
      "cell_type": "code",
      "source": [
        "R_bh = 2 * ac.G * 30 * u.solMass / (ac.c**2)\n",
        "D = R_bh / h\n",
        "print(\"distance of the black hole merger is\" , D.to(1e6 * u.parsec))"
      ],
      "metadata": {
        "colab": {
          "base_uri": "https://localhost:8080/"
        },
        "id": "Mr_uve9JpVdc",
        "outputId": "673a9fec-90eb-4176-c96e-dad87d4f7fb8"
      },
      "execution_count": null,
      "outputs": [
        {
          "output_type": "stream",
          "name": "stdout",
          "text": [
            "distance of the black hole merger is 2871.249504952705 1e+06 pc\n"
          ]
        }
      ]
    }
  ]
}