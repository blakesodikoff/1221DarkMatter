{
  "nbformat": 4,
  "nbformat_minor": 0,
  "metadata": {
    "colab": {
      "provenance": [],
      "authorship_tag": "ABX9TyPzvRBX3XgVSeYjIKqdbfQs",
      "include_colab_link": true
    },
    "kernelspec": {
      "name": "python3",
      "display_name": "Python 3"
    },
    "language_info": {
      "name": "python"
    }
  },
  "cells": [
    {
      "cell_type": "markdown",
      "metadata": {
        "id": "view-in-github",
        "colab_type": "text"
      },
      "source": [
        "<a href=\"https://colab.research.google.com/github/blakesodikoff/1221DarkMatter/blob/main/November17.ipynb\" target=\"_parent\"><img src=\"https://colab.research.google.com/assets/colab-badge.svg\" alt=\"Open In Colab\"/></a>"
      ]
    },
    {
      "cell_type": "code",
      "source": [
        "import astropy.units as u # import astropy library\n",
        "import numpy as np # import numpy library\n",
        "import astropy.constants as ac # import astropy constants"
      ],
      "metadata": {
        "id": "FmrzSWWgqn7e"
      },
      "execution_count": 1,
      "outputs": []
    },
    {
      "cell_type": "code",
      "source": [
        "a_jupiter = 5 * u.AU # semi-major axis for jupiter\n",
        "v = np.sqrt(ac.G *u.solMass / a_jupiter) # velocity equation for jupiter\n",
        "d = 2 * u.solRad # distance for transit\n",
        "t = d/v # time equation from distance and velocity\n",
        "print(v.to(u.m / u.s)) # print velocity\n",
        "print(t.to(u.hour)) # print time"
      ],
      "metadata": {
        "colab": {
          "base_uri": "https://localhost:8080/"
        },
        "id": "5VX1WGvCqoxa",
        "outputId": "e264c647-2352-4bbe-b480-236f222a803b"
      },
      "execution_count": 2,
      "outputs": [
        {
          "output_type": "stream",
          "name": "stdout",
          "text": [
            "13320.119124008042 m / s\n",
            "29.01625701705449 h\n"
          ]
        }
      ]
    },
    {
      "cell_type": "code",
      "source": [
        "jupiter_rad = 11.2 * u.earthRad # define jupiter radius in terms of earth radius"
      ],
      "metadata": {
        "id": "qMlFOWnCsied"
      },
      "execution_count": 3,
      "outputs": []
    },
    {
      "cell_type": "code",
      "source": [
        "jupiter_flux = ((1 * u.jupiterRad) / (9.73 * u.jupiterRad))**2 # define jupiter flux\n",
        "print(jupiter_flux) # print jupiter flux"
      ],
      "metadata": {
        "colab": {
          "base_uri": "https://localhost:8080/"
        },
        "id": "eGJ-i3zls0IK",
        "outputId": "c29fc934-8c30-43d3-bb73-dc916a2a98b3"
      },
      "execution_count": 4,
      "outputs": [
        {
          "output_type": "stream",
          "name": "stdout",
          "text": [
            "0.010562684780966888\n"
          ]
        }
      ]
    },
    {
      "cell_type": "code",
      "source": [
        "a_earth = 1 * u.AU # define semi-major axis of earth"
      ],
      "metadata": {
        "id": "5MT7OLzZxW7F"
      },
      "execution_count": 5,
      "outputs": []
    },
    {
      "cell_type": "code",
      "source": [
        "v_earth = 30 * u.km / u.s # define velocity of earth\n",
        "v_sun = (u.earthMass / u.solMass)* v_earth # define velocity of sun in sun-earth system\n",
        "print(v_sun.to(u.cm/u.s)) # print sun velocity"
      ],
      "metadata": {
        "colab": {
          "base_uri": "https://localhost:8080/"
        },
        "id": "PP5mId8gyR93",
        "outputId": "58b5ebd3-d8a8-4f56-93bf-139a2477c7ee"
      },
      "execution_count": 6,
      "outputs": [
        {
          "output_type": "stream",
          "name": "stdout",
          "text": [
            "9.01046804655238 cm / s\n"
          ]
        }
      ]
    },
    {
      "cell_type": "code",
      "source": [
        "v_sun_jupiter = (u.jupiterMass / u.solMass) * v # define sun velocity in sun-jupiter system\n",
        "print(v_sun_jupiter.to(u.m / u. s)) # print sun velocity in sun-jupiter system"
      ],
      "metadata": {
        "colab": {
          "base_uri": "https://localhost:8080/"
        },
        "id": "jQ5Q9HmLyjWZ",
        "outputId": "8380cc3c-a3f8-4be1-cf37-86b566565ab1"
      },
      "execution_count": 7,
      "outputs": [
        {
          "output_type": "stream",
          "name": "stdout",
          "text": [
            "12.715308911562614 m / s\n"
          ]
        }
      ]
    },
    {
      "cell_type": "code",
      "source": [],
      "metadata": {
        "id": "hd2rlZx1y4qg"
      },
      "execution_count": 7,
      "outputs": []
    },
    {
      "cell_type": "code",
      "source": [],
      "metadata": {
        "id": "Sc1iHgA_ySvP"
      },
      "execution_count": 7,
      "outputs": []
    }
  ]
}