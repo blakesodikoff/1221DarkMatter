{
  "nbformat": 4,
  "nbformat_minor": 0,
  "metadata": {
    "colab": {
      "provenance": [],
      "authorship_tag": "ABX9TyPBt0FkRWCSlOZsNHjaYzAf",
      "include_colab_link": true
    },
    "kernelspec": {
      "name": "python3",
      "display_name": "Python 3"
    },
    "language_info": {
      "name": "python"
    }
  },
  "cells": [
    {
      "cell_type": "markdown",
      "metadata": {
        "id": "view-in-github",
        "colab_type": "text"
      },
      "source": [
        "<a href=\"https://colab.research.google.com/github/blakesodikoff/1221DarkMatter/blob/main/orbital_velocity%20earth/satellite%20and%20schw.%20radius.ipynb\" target=\"_parent\"><img src=\"https://colab.research.google.com/assets/colab-badge.svg\" alt=\"Open In Colab\"/></a>"
      ]
    },
    {
      "cell_type": "code",
      "execution_count": null,
      "metadata": {
        "id": "34pTe8OGXf18"
      },
      "outputs": [],
      "source": [
        "import numpy as np # importing for operations such as sqrt"
      ]
    },
    {
      "cell_type": "code",
      "source": [
        "import astropy.units as u # for unit conversions"
      ],
      "metadata": {
        "id": "ETkucHssXklW"
      },
      "execution_count": null,
      "outputs": []
    },
    {
      "cell_type": "code",
      "source": [
        "import astropy.constants as ac # for astronomical constants such as G"
      ],
      "metadata": {
        "id": "nzzu0b_YXm-M"
      },
      "execution_count": null,
      "outputs": []
    },
    {
      "cell_type": "markdown",
      "source": [
        "$v_{orbital}=\\sqrt{\\frac{GM_\\odot}{r}}$"
      ],
      "metadata": {
        "id": "hCkS31vEZv8S"
      }
    },
    {
      "cell_type": "code",
      "source": [
        "ac.G.si # display the value of the gravitational constant G"
      ],
      "metadata": {
        "colab": {
          "base_uri": "https://localhost:8080/",
          "height": 42
        },
        "id": "u5HzBQcPa7GJ",
        "outputId": "884787e2-97de-4321-d036-fc756045dbdf"
      },
      "execution_count": null,
      "outputs": [
        {
          "output_type": "execute_result",
          "data": {
            "text/plain": [
              "<<class 'astropy.constants.codata2018.CODATA2018'> name='Gravitational constant' value=6.6743e-11 uncertainty=1.5e-15 unit='m3 / (kg s2)' reference='CODATA 2018'>"
            ],
            "text/latex": "$6.6743 \\times 10^{-11} \\; \\mathrm{\\frac{m^{3}}{kg\\,s^{2}}}$"
          },
          "metadata": {},
          "execution_count": 21
        }
      ]
    },
    {
      "cell_type": "code",
      "source": [
        "v_orbital=np.sqrt(ac.G*u.solMass / u.au)\n",
        "# calculate the orbital velocity around the sun at 1 AU"
      ],
      "metadata": {
        "id": "qARkbyEka8XE"
      },
      "execution_count": null,
      "outputs": []
    },
    {
      "cell_type": "code",
      "source": [
        "print(v_orbital.si, v_orbital.to(u.km / u.s), v_orbital.to(ac.c))\n",
        "# display the calculated formula"
      ],
      "metadata": {
        "colab": {
          "base_uri": "https://localhost:8080/"
        },
        "id": "EgThrX0ObKfn",
        "outputId": "a837421c-1792-4500-e306-2540114fbd4d"
      },
      "execution_count": null,
      "outputs": [
        {
          "output_type": "stream",
          "name": "stdout",
          "text": [
            "29784.691829676933 m / s 29.784691829676934 km / s 9.935103780921979e-05 2.99792e+08 m / s\n"
          ]
        }
      ]
    },
    {
      "cell_type": "code",
      "source": [
        "v_satellite=np.sqrt(ac.G*u.earthMass / u.earthRad)\n",
        "# calculate the orbital velocity of a satellite around Earth"
      ],
      "metadata": {
        "id": "i9oQ2up0bVqK"
      },
      "execution_count": null,
      "outputs": []
    },
    {
      "cell_type": "code",
      "source": [
        "print(v_satellite.to(u.km / u.s))\n",
        "# print the calculated orbital velocity in km/s"
      ],
      "metadata": {
        "colab": {
          "base_uri": "https://localhost:8080/"
        },
        "id": "DYzG6n4AbcA9",
        "outputId": "0bc3bcb8-0ab3-49ff-cb76-0680bcd876c2"
      },
      "execution_count": null,
      "outputs": [
        {
          "output_type": "stream",
          "name": "stdout",
          "text": [
            "7.905388234385281 km / s\n"
          ]
        }
      ]
    },
    {
      "cell_type": "markdown",
      "source": [
        "$r={2}{\\frac{GM_\\odot}{c^2}}$"
      ],
      "metadata": {
        "id": "q7dMztPZcWsI"
      }
    },
    {
      "cell_type": "code",
      "source": [
        "r_schwachild = (2*ac.G * u.solMass / ac.c**2)\n",
        "# calculating the Schwarzchild radius for a solar mass black hole"
      ],
      "metadata": {
        "id": "jBxMYFBnc-LM"
      },
      "execution_count": null,
      "outputs": []
    },
    {
      "cell_type": "code",
      "source": [
        "print(r_schwachild.to(u.km)) # print the calculated Schwarzchild radius"
      ],
      "metadata": {
        "colab": {
          "base_uri": "https://localhost:8080/"
        },
        "id": "8Vn58BoFdGNK",
        "outputId": "6b73cfc7-81c3-4cc9-c2a8-ed82c3aa2e43"
      },
      "execution_count": null,
      "outputs": [
        {
          "output_type": "stream",
          "name": "stdout",
          "text": [
            "2.95325007610025 km\n"
          ]
        }
      ]
    }
  ]
}